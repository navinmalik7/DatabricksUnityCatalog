{
 "cells": [
  {
   "cell_type": "code",
   "execution_count": 0,
   "metadata": {
    "application/vnd.databricks.v1+cell": {
     "cellMetadata": {
      "byteLimit": 2048000,
      "rowLimit": 10000
     },
     "inputWidgets": {},
     "nuid": "d04e6956-be70-45a8-a601-900d6407178d",
     "showTitle": false,
     "tableResultSettingsMap": {},
     "title": ""
    }
   },
   "outputs": [],
   "source": [
    "CREATE SCHEMA IF NOT EXISTS delta;"
   ]
  },
  {
   "cell_type": "code",
   "execution_count": 0,
   "metadata": {
    "application/vnd.databricks.v1+cell": {
     "cellMetadata": {
      "byteLimit": 2048000,
      "rowLimit": 10000
     },
     "inputWidgets": {},
     "nuid": "0606e071-c962-43d3-a140-41d52ca4fcf5",
     "showTitle": false,
     "tableResultSettingsMap": {},
     "title": ""
    }
   },
   "outputs": [],
   "source": [
    "CREATE TABLE `delta`.deltaFile\n",
    "(\n",
    "  Education_Level VARCHAR(50),\n",
    "  Line_Number INT,\n",
    "  Employed INT,\n",
    "  Unemployed INT,\n",
    "  Industry VARCHAR(50),\n",
    "  Gender VARCHAR(50),\n",
    "  Date_Inserted DATE,\n",
    "  dense_rank INT\n",
    ")"
   ]
  },
  {
   "cell_type": "code",
   "execution_count": 0,
   "metadata": {
    "application/vnd.databricks.v1+cell": {
     "cellMetadata": {
      "byteLimit": 2048000,
      "rowLimit": 10000
     },
     "inputWidgets": {},
     "nuid": "9978f26f-f3ea-4c9a-9c61-420a2ab122a3",
     "showTitle": false,
     "tableResultSettingsMap": {},
     "title": ""
    }
   },
   "outputs": [],
   "source": [
    "SELECT * FROM delta.deltaFile"
   ]
  },
  {
   "cell_type": "code",
   "execution_count": 0,
   "metadata": {
    "application/vnd.databricks.v1+cell": {
     "cellMetadata": {
      "byteLimit": 2048000,
      "rowLimit": 10000
     },
     "inputWidgets": {},
     "nuid": "fbfef1ce-8dcf-4986-b4aa-71f875128d21",
     "showTitle": false,
     "tableResultSettingsMap": {},
     "title": ""
    }
   },
   "outputs": [],
   "source": [
    "%python\n",
    "dbutils.fs.ls('abfss://unity-catalog-storage@dbstoragewovka75i46qm4.dfs.core.windows.net/databricks_dev_ws_1482141014309435.delta.deltafile')"
   ]
  },
  {
   "cell_type": "code",
   "execution_count": 0,
   "metadata": {
    "application/vnd.databricks.v1+cell": {
     "cellMetadata": {
      "byteLimit": 2048000,
      "rowLimit": 10000
     },
     "inputWidgets": {},
     "nuid": "62d19724-99b5-4dc1-84d7-7854195041e6",
     "showTitle": false,
     "tableResultSettingsMap": {},
     "title": ""
    }
   },
   "outputs": [],
   "source": [
    "INSERT INTO delta.deltaFile\n",
    "VALUES\n",
    "('Bachelor', 1, 4500, 500, 'IT', 'Male', '2023-07-12', 1),\n",
    "('Master', 2, 6500, 500, 'Finance', 'Female', '2023-07-12', 2),\n",
    "('High School', 3, 3500, 500, 'Retail', 'Male', '2023-07-12', 3),\n",
    "('PHD', 4, 5500, 500, 'Healthcare', 'Female', '2023-07-12', 4)"
   ]
  }
 ],
 "metadata": {
  "application/vnd.databricks.v1+notebook": {
   "computePreferences": null,
   "dashboards": [],
   "environmentMetadata": {
    "base_environment": "",
    "environment_version": "2"
   },
   "inputWidgetPreferences": null,
   "language": "sql",
   "notebookMetadata": {
    "pythonIndentUnit": 4
   },
   "notebookName": "3. Creating delta tables",
   "widgets": {}
  },
  "language_info": {
   "name": "sql"
  }
 },
 "nbformat": 4,
 "nbformat_minor": 0
}
